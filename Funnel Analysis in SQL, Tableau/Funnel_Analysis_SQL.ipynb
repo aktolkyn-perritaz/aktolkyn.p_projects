{
  "nbformat": 4,
  "nbformat_minor": 0,
  "metadata": {
    "colab": {
      "provenance": [],
      "authorship_tag": "ABX9TyN9CIZDrhL/6JlbYXUwC5Kz",
      "include_colab_link": true
    },
    "kernelspec": {
      "name": "python3",
      "display_name": "Python 3"
    },
    "language_info": {
      "name": "python"
    }
  },
  "cells": [
    {
      "cell_type": "markdown",
      "metadata": {
        "id": "view-in-github",
        "colab_type": "text"
      },
      "source": [
        "<a href=\"https://colab.research.google.com/github/aktolkyn-masterschool/aktolkyn.p_projects/blob/main/Funnel%20Analysis%20in%20SQL%2C%20Tableau/Funnel_Analysis_SQL.ipynb\" target=\"_parent\"><img src=\"https://colab.research.google.com/assets/colab-badge.svg\" alt=\"Open In Colab\"/></a>"
      ]
    },
    {
      "cell_type": "markdown",
      "source": [
        "This project aims to analyze the customer funnel of Metrocar, a ride-sharing app (similar to Uber/Lyft), to identify areas for improvement and optimization. I use SQL for data analysis and Tableau for data visualization.\n",
        "\n",
        "https://public.tableau.com/app/profile/aktolkyn.perritaz/viz/CustomerFunnelAnalysis_carsharingmobileapplication/Story_Funnel_Anlysis\n",
        "\n",
        "\n",
        "Metrocar’s Funnel:\n",
        "The customer funnel for Metrocar typically includes the following stages:\n",
        "\n",
        "STAGE 1: App Download: A user downloads the Metrocar app from the App Store or Google Play Store.\n",
        "STAGE 2: Signup: The user creates an account in the Metrocar app, including their name, email, phone number, and payment information.\n",
        "STAGE 3: Request Ride: The user opens the app and requests a ride by entering their pickup location, destination, and ride capacity (2 to 6 riders).\n",
        "STAGE 4: Driver Acceptance: A nearby driver receives the ride request and accepts the ride.\n",
        "STAGE 5: Ride: The driver arrives at the pickup location, and the user gets in the car and rides to their destination.\n",
        "STAGE 6: Payment: After the ride, the user is charged automatically through the app, and a receipt is sent to their email.\n",
        "STAGE 7: Review: The user is prompted to rate their driver and leave a review of their ride experience.\n",
        "\n",
        "Similar to other customer funnels, there will be drop-offs at every stage of the funnel, which is why funnel analysis can be helpful in identifying areas for improvement and optimization.\n",
        "\n",
        "Funnel Analysis with SQL:\n",
        "1. Define the stages of your funnel\n",
        "2. Follow the same users through the funnel\n",
        "3. Calculate Conversion Rates\n",
        "4. Calculate Drop-off rates\n",
        "\n",
        "I will follow the below questions to explore the dataset with SQL.\n",
        "\n",
        "The dataset consists of the following tables:\n",
        "- app_downloads: contains information about app downloads\n",
        "- signups: contains information about new user signups\n",
        "- ride_requests: contains information about rides\n",
        "- transactions: contains information about financial transactions based on completed rides\n",
        "- reviews: contains information about driver reviews once rides are completed\n",
        "\n"
      ],
      "metadata": {
        "id": "pTSjIzgPo6j6"
      }
    },
    {
      "cell_type": "markdown",
      "source": [
        "**Metrocar’s Funnel**\n",
        "\n",
        "The customer funnel for Metrocar typically includes the following stages:\n",
        "\n",
        "1. **App Download:** A user downloads the Metrocar app from the App Store or\n",
        "Google Play Store.\n",
        "2. **Signup:** The user creates an account in the Metrocar app, including their name, email, phone number, and payment information.\n",
        "3. **Request Ride:** The user opens the app and requests a ride by entering their pickup location, destination, and ride capacity (2 to 6 riders).\n",
        "4. **Driver Acceptance:** A nearby driver receives the ride request and accepts the ride.\n",
        "5. Ride:The driver arrives at the pickup location, and the user gets in the car and rides to their destination.\n",
        "6. **Payment:** After the ride, the user is charged automatically through the app, and a receipt is sent to their email.\n",
        "7. **Review:** The user is prompted to rate their driver and leave a review of their ride experience."
      ],
      "metadata": {
        "id": "z8sFKRmeCuCw"
      }
    },
    {
      "cell_type": "markdown",
      "source": [
        "**Analyzing User Journey Across Funnel Stages to Boost Conversion Rates**\n",
        "\n",
        "Objective:\n",
        "1. Analyze the customer funnel of a Metrocar, a ride-sharing app company\n",
        "2. Identify areas for improvement and optimisation\n",
        "\n",
        "Exploring the Funnel*:\n",
        "1.     Customer funnel - tracking the flow of users and analysing the conversion rates\n",
        "2.     Rides funnel - tracking the total number of rides through the funnel and analysing the conversion rates\n",
        "3.     Analyse the funnel by user age group to identify the target customers to improve the convesion rates\n",
        "\n",
        "About Metrocar\n",
        "Metrocar provides a platform that connects riders with drivers through a mobile application. Metrocar acts as an intermediary between riders and drivers, providing a user-friendly platform to connect them and facilitate the ride-hailing process\n",
        "\n",
        "*Note: PostgreSQL was used for the dataset analysis and Tableau for visualisation and presentation the story"
      ],
      "metadata": {
        "id": "cYJQhbFUjJHt"
      }
    },
    {
      "cell_type": "markdown",
      "source": [
        "**Customer Funnel: Analyzing User Journey and Conversion Rates **\n",
        "\n",
        "I will start from Customer FunnelAnalysis to track the User Journey and Conversion Rates\n",
        "\n",
        "\n",
        "\n"
      ],
      "metadata": {
        "id": "BTCy8JNajjCF"
      }
    },
    {
      "cell_type": "code",
      "source": [
        "--Customer Funnel: Analyzing User Journey and Conversion Rates **\n",
        "\n",
        "I will start from Customer FunnelAnalysis to track the User Journey and Conversion Rates\n",
        "\n",
        "WITH funnel_num_users as\n",
        "\n",
        "(SELECT COUNT(DISTINCT app_download_key), 'app_downloads' as user_action\n",
        "FROM app_downloads\n",
        "UNION\n",
        "\n",
        "SELECT COUNT(DISTINCT user_id), 'signed_up' as user_action\n",
        "FROM signups\n",
        "UNION\n",
        "\n",
        "SELECT COUNT (DISTINCT user_id), 'requested_ride' as user_action\n",
        "FROM ride_requests\n",
        "UNION\n",
        "\n",
        "SELECT COUNT (DISTINCT user_id), 'completed_ride' as user_action\n",
        "FROM ride_requests\n",
        "WHERE cancel_ts IS NULL\n",
        "UNION\n",
        "\n",
        "SELECT COUNT (DISTINCT user_id), 'reviewed' as user_action\n",
        "FROM reviews)\n",
        "\n",
        "SELECT user_action, COUNT, lag(count,1) over (ORDER BY count DESC) as lag,\n",
        "round((count::numeric/lag(count, 1) over (ORDER BY count DESC))*100,1) as drop_off\n",
        "FROM funnel_num_users\n",
        "\n"
      ],
      "metadata": {
        "id": "b67y3_AZUXd4"
      },
      "execution_count": null,
      "outputs": []
    },
    {
      "cell_type": "code",
      "source": [
        "-- Analyse rides requested & rides completed by age group\n",
        "\n",
        "WITH t1 AS\n",
        "(SELECT s.age_range, COUNT (DISTINCT rr.user_id) as users_rides_completed\n",
        "FROM signups s\n",
        "LEFT JOIN ride_requests rr ON rr.user_id=s.user_id\n",
        "GROUP BY s.age_range, rr.cancel_ts\n",
        "HAVING rr.cancel_ts IS NULL),\n",
        "\n",
        "t2 as\n",
        "(SELECT s.age_range, COUNT (DISTINCT rr.user_id) as users_rides_requested\n",
        "FROM signups s\n",
        "LEFT JOIN ride_requests rr ON rr.user_id=s.user_id\n",
        "GROUP BY s.age_range)\n",
        "\n",
        "SELECT t1.age_range, t1.users_rides_completed, t2.users_rides_requested\n",
        "FROM t1\n",
        "JOIN t2 ON t1.age_range = t2.age_range\n",
        "\n"
      ],
      "metadata": {
        "id": "Ssc7LGuvx3dZ"
      },
      "execution_count": null,
      "outputs": []
    },
    {
      "cell_type": "markdown",
      "source": [
        "Analysis of the Customer Funnel:\n",
        "·     23, 608 total users downloaded the Metrocar app\n",
        "·      75% of users, who downloaded the app, signed up\n",
        "·      70% of signups used the app and requested a ride\n",
        "·      50% of users, who requested a ride, took a ride\n",
        "·      70% of users, who took a ride, left a review\n",
        "\n"
      ],
      "metadata": {
        "id": "RPF_czqZlWeB"
      }
    },
    {
      "cell_type": "markdown",
      "source": [
        "Main findings of the Customer Funnel Analysis:\n",
        "·     23, 608 total users downloaded the Metrocar app\n",
        "·      75% of users, who downloaded the app, signed up\n",
        "·      70% of signups used the app and requested a ride\n",
        "·      50% of users, who requested a ride, took a ride\n",
        "·      70% of users, who took a ride, left a review"
      ],
      "metadata": {
        "id": "77EaCdoXkmkP"
      }
    },
    {
      "cell_type": "markdown",
      "source": [
        "**Key Findings of the Customer Funnel Analysis: **\n",
        "·      Only half of the users who requested a ride, have actually taken a ride while another half have dropped out of the funnel\n",
        "·     User age group* of 35-44 and 25-34 have the biggest drop out of users from requesting a ride to actually taking a ride\n",
        "\n",
        "*Note: age group data is not available for all users"
      ],
      "metadata": {
        "id": "7YNeTV3okO-P"
      }
    },
    {
      "cell_type": "markdown",
      "source": [
        "Next, I will analyse Rides Funnel to track the rides flow through the app"
      ],
      "metadata": {
        "id": "uk5JpRBJkapK"
      }
    },
    {
      "cell_type": "code",
      "source": [
        "--Funnel to follow the user experience and the conversion rates\n",
        "\n",
        "WITH funnel_rides as\n",
        "\n",
        "(SELECT COUNT (DISTINCT ride_id), 'rides_requested' as ride_step\n",
        "FROM ride_requests\n",
        "UNION\n",
        "\n",
        "SELECT COUNT (accept_ts), 'rides_driver_accepted' as ride_step\n",
        "FROM ride_requests\n",
        "WHERE accept_ts IS NOT NULL\n",
        "UNION\n",
        "\n",
        "SELECT COUNT (DISTINCT ride_id), 'rides_completed' as ride_step\n",
        "FROM ride_requests\n",
        "WHERE cancel_ts IS NULL\n",
        "UNION\n",
        "\n",
        "SELECT count(distinct ride_id), 'rides_paid' as ride_step\n",
        "FROM transactions\n",
        "WHERE charge_status = 'Approved'\n",
        "UNION\n",
        "\n",
        "SELECT COUNT (DISTINCT review_id), 'reviewed' as ride_step\n",
        "FROM reviews\n",
        "UNION\n",
        "\n",
        "SELECT COUNT (DISTINCT review_id), 'reviewed_3&4&5' as ride_step\n",
        "FROM reviews\n",
        "WHERE rating = 4 OR rating = 5 OR rating = 3)\n",
        "\n",
        "SELECT ride_step, COUNT, lag(count,1) over (ORDER BY count DESC) as lag,\n",
        "round((count::numeric/lag(count, 1) over (ORDER BY count DESC)),2)*100 as drop_off\n",
        "FROM funnel_rides\n"
      ],
      "metadata": {
        "id": "iIPa3JD6k3ZH"
      },
      "execution_count": null,
      "outputs": []
    },
    {
      "cell_type": "markdown",
      "source": [
        "**Analysis of the Rides Funnel:**\n",
        "\n",
        "·     385,477 total rides requested on the the app\n",
        "·      64% of requested rides were accepted by a driver\n",
        "·      90% of accepted rides were completed for customer\n",
        "·      95% of completed rides were paid\n",
        "·      73% of paid rides were reviewed by customer\n",
        "·     60% of reviewed rides were evaluated as 'Excellent', 'Good' and 'Average'\n"
      ],
      "metadata": {
        "id": "1RMcVmhRlMll"
      }
    },
    {
      "cell_type": "markdown",
      "source": [
        "**Key Findings of the Rides Funnel Analysis: **\n",
        "\n",
        "·      Only half of the users who requested a ride, have actually taken a ride and another half have dropped out of the funnel\n",
        "·     Need to look into how to improve 70% & 75% conversion rates on other steps"
      ],
      "metadata": {
        "id": "w-NqqNW6mke_"
      }
    },
    {
      "cell_type": "markdown",
      "source": [
        "\n",
        "\n",
        "\n",
        "\n",
        "\n",
        "\n",
        "** Funnel Areas For Improvement and Optimisation  **\n",
        "\n",
        "· Customer Funnel Analysis indicates that the conversion of users from requesting a ride to taking it needs to be improved\n",
        "\n",
        "\n",
        "· User age groups of 35-44 and 25-34 deserve particular attention as these are the target groups with the highest number of users dropped out of the funnel\n",
        "\n",
        "\n",
        "· 'Acceptance of rides by a driver' needs to be investigated and optimised as it is the main reason of lower conversion rate at the stage of requesting a ride to completing it\n",
        "\n",
        "\n",
        "· Quality of rides is another critical area for improvement\n",
        "\n",
        "\n",
        "\n",
        "\n",
        "\n",
        "\n",
        "\n",
        "\n",
        "\n",
        "\n",
        "\n",
        "\n",
        "\n",
        "\n",
        "\n",
        "\n"
      ],
      "metadata": {
        "id": "eSOxn7_E3Afu"
      }
    }
  ]
}