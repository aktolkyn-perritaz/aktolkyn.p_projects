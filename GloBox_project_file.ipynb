{
 "cells": [
  {
   "cell_type": "code",
   "execution_count": 1,
   "id": "6304ab46",
   "metadata": {},
   "outputs": [],
   "source": [
    "# Import packages\n",
    "\n",
    "import numpy as np\n",
    "import pandas as pd\n",
    "import scipy.stats as stats\n",
    "import statsmodels.stats.api as sms"
   ]
  },
  {
   "cell_type": "code",
   "execution_count": 11,
   "id": "8178b674",
   "metadata": {},
   "outputs": [],
   "source": [
    "# Upload the groups and activity csv files\n",
    "\n",
    "activity=pd.read_csv('/Users/aktolkynperritaz/Documents/Masterschool_Data Analyst/Mastery project/GloBox_DF/activity.csv')\n",
    "groups=pd.read_csv('/Users/aktolkynperritaz/Documents/Masterschool_Data Analyst/Mastery project/GloBox_DF/groups_query_results.csv')\n",
    "users=pd.read_csv('/Users/aktolkynperritaz/Documents/Masterschool_Data Analyst/Mastery project/GloBox_DF/users.csv')"
   ]
  },
  {
   "cell_type": "code",
   "execution_count": null,
   "id": "aa088b60",
   "metadata": {},
   "outputs": [],
   "source": [
    "# Perform a quick overview of the upaloaded csv files"
   ]
  },
  {
   "cell_type": "code",
   "execution_count": 4,
   "id": "820191cc",
   "metadata": {},
   "outputs": [
    {
     "data": {
      "text/html": [
       "<div>\n",
       "<style scoped>\n",
       "    .dataframe tbody tr th:only-of-type {\n",
       "        vertical-align: middle;\n",
       "    }\n",
       "\n",
       "    .dataframe tbody tr th {\n",
       "        vertical-align: top;\n",
       "    }\n",
       "\n",
       "    .dataframe thead th {\n",
       "        text-align: right;\n",
       "    }\n",
       "</style>\n",
       "<table border=\"1\" class=\"dataframe\">\n",
       "  <thead>\n",
       "    <tr style=\"text-align: right;\">\n",
       "      <th></th>\n",
       "      <th>uid</th>\n",
       "      <th>dt</th>\n",
       "      <th>device</th>\n",
       "      <th>spent</th>\n",
       "    </tr>\n",
       "  </thead>\n",
       "  <tbody>\n",
       "    <tr>\n",
       "      <th>0</th>\n",
       "      <td>1000039</td>\n",
       "      <td>2023-02-04</td>\n",
       "      <td>A</td>\n",
       "      <td>36.650000</td>\n",
       "    </tr>\n",
       "    <tr>\n",
       "      <th>1</th>\n",
       "      <td>1000045</td>\n",
       "      <td>2023-01-30</td>\n",
       "      <td>I</td>\n",
       "      <td>51.580000</td>\n",
       "    </tr>\n",
       "    <tr>\n",
       "      <th>2</th>\n",
       "      <td>1000071</td>\n",
       "      <td>2023-02-02</td>\n",
       "      <td>I</td>\n",
       "      <td>6.710000</td>\n",
       "    </tr>\n",
       "    <tr>\n",
       "      <th>3</th>\n",
       "      <td>1000101</td>\n",
       "      <td>2023-02-02</td>\n",
       "      <td>A</td>\n",
       "      <td>18.130000</td>\n",
       "    </tr>\n",
       "    <tr>\n",
       "      <th>4</th>\n",
       "      <td>1000101</td>\n",
       "      <td>2023-02-05</td>\n",
       "      <td>A</td>\n",
       "      <td>5.674497</td>\n",
       "    </tr>\n",
       "  </tbody>\n",
       "</table>\n",
       "</div>"
      ],
      "text/plain": [
       "       uid          dt device      spent\n",
       "0  1000039  2023-02-04      A  36.650000\n",
       "1  1000045  2023-01-30      I  51.580000\n",
       "2  1000071  2023-02-02      I   6.710000\n",
       "3  1000101  2023-02-02      A  18.130000\n",
       "4  1000101  2023-02-05      A   5.674497"
      ]
     },
     "execution_count": 4,
     "metadata": {},
     "output_type": "execute_result"
    }
   ],
   "source": [
    "activity.head()"
   ]
  },
  {
   "cell_type": "code",
   "execution_count": 5,
   "id": "4afc3b92",
   "metadata": {},
   "outputs": [
    {
     "name": "stdout",
     "output_type": "stream",
     "text": [
      "<class 'pandas.core.frame.DataFrame'>\n",
      "RangeIndex: 2233 entries, 0 to 2232\n",
      "Data columns (total 4 columns):\n",
      " #   Column  Non-Null Count  Dtype  \n",
      "---  ------  --------------  -----  \n",
      " 0   uid     2233 non-null   int64  \n",
      " 1   dt      2233 non-null   object \n",
      " 2   device  2223 non-null   object \n",
      " 3   spent   2233 non-null   float64\n",
      "dtypes: float64(1), int64(1), object(2)\n",
      "memory usage: 69.9+ KB\n"
     ]
    }
   ],
   "source": [
    "activity.info()"
   ]
  },
  {
   "cell_type": "code",
   "execution_count": 6,
   "id": "c3b8f665",
   "metadata": {},
   "outputs": [
    {
     "data": {
      "text/plain": [
       "(2233, 4)"
      ]
     },
     "execution_count": 6,
     "metadata": {},
     "output_type": "execute_result"
    }
   ],
   "source": [
    "activity.shape"
   ]
  },
  {
   "cell_type": "code",
   "execution_count": 7,
   "id": "244efa20",
   "metadata": {},
   "outputs": [
    {
     "data": {
      "text/html": [
       "<div>\n",
       "<style scoped>\n",
       "    .dataframe tbody tr th:only-of-type {\n",
       "        vertical-align: middle;\n",
       "    }\n",
       "\n",
       "    .dataframe tbody tr th {\n",
       "        vertical-align: top;\n",
       "    }\n",
       "\n",
       "    .dataframe thead th {\n",
       "        text-align: right;\n",
       "    }\n",
       "</style>\n",
       "<table border=\"1\" class=\"dataframe\">\n",
       "  <thead>\n",
       "    <tr style=\"text-align: right;\">\n",
       "      <th></th>\n",
       "      <th>uid</th>\n",
       "      <th>group</th>\n",
       "      <th>join_dt</th>\n",
       "      <th>device</th>\n",
       "    </tr>\n",
       "  </thead>\n",
       "  <tbody>\n",
       "    <tr>\n",
       "      <th>0</th>\n",
       "      <td>1000000</td>\n",
       "      <td>B</td>\n",
       "      <td>2023-01-28</td>\n",
       "      <td>I</td>\n",
       "    </tr>\n",
       "    <tr>\n",
       "      <th>1</th>\n",
       "      <td>1000001</td>\n",
       "      <td>A</td>\n",
       "      <td>2023-01-27</td>\n",
       "      <td>A</td>\n",
       "    </tr>\n",
       "    <tr>\n",
       "      <th>2</th>\n",
       "      <td>1000002</td>\n",
       "      <td>A</td>\n",
       "      <td>2023-02-01</td>\n",
       "      <td>A</td>\n",
       "    </tr>\n",
       "    <tr>\n",
       "      <th>3</th>\n",
       "      <td>1000003</td>\n",
       "      <td>B</td>\n",
       "      <td>2023-01-25</td>\n",
       "      <td>I</td>\n",
       "    </tr>\n",
       "    <tr>\n",
       "      <th>4</th>\n",
       "      <td>1000004</td>\n",
       "      <td>A</td>\n",
       "      <td>2023-02-04</td>\n",
       "      <td>A</td>\n",
       "    </tr>\n",
       "  </tbody>\n",
       "</table>\n",
       "</div>"
      ],
      "text/plain": [
       "       uid group     join_dt device\n",
       "0  1000000     B  2023-01-28      I\n",
       "1  1000001     A  2023-01-27      A\n",
       "2  1000002     A  2023-02-01      A\n",
       "3  1000003     B  2023-01-25      I\n",
       "4  1000004     A  2023-02-04      A"
      ]
     },
     "execution_count": 7,
     "metadata": {},
     "output_type": "execute_result"
    }
   ],
   "source": [
    "groups.head()"
   ]
  },
  {
   "cell_type": "code",
   "execution_count": 8,
   "id": "1f1339d5",
   "metadata": {},
   "outputs": [
    {
     "name": "stdout",
     "output_type": "stream",
     "text": [
      "<class 'pandas.core.frame.DataFrame'>\n",
      "RangeIndex: 48943 entries, 0 to 48942\n",
      "Data columns (total 4 columns):\n",
      " #   Column   Non-Null Count  Dtype \n",
      "---  ------   --------------  ----- \n",
      " 0   uid      48943 non-null  int64 \n",
      " 1   group    48943 non-null  object\n",
      " 2   join_dt  48943 non-null  object\n",
      " 3   device   48649 non-null  object\n",
      "dtypes: int64(1), object(3)\n",
      "memory usage: 1.5+ MB\n"
     ]
    }
   ],
   "source": [
    "groups.info()"
   ]
  },
  {
   "cell_type": "code",
   "execution_count": 10,
   "id": "21139c97",
   "metadata": {},
   "outputs": [
    {
     "data": {
      "text/plain": [
       "(48943, 4)"
      ]
     },
     "execution_count": 10,
     "metadata": {},
     "output_type": "execute_result"
    }
   ],
   "source": [
    "groups.shape"
   ]
  },
  {
   "cell_type": "code",
   "execution_count": 12,
   "id": "85059dbc",
   "metadata": {},
   "outputs": [
    {
     "data": {
      "text/html": [
       "<div>\n",
       "<style scoped>\n",
       "    .dataframe tbody tr th:only-of-type {\n",
       "        vertical-align: middle;\n",
       "    }\n",
       "\n",
       "    .dataframe tbody tr th {\n",
       "        vertical-align: top;\n",
       "    }\n",
       "\n",
       "    .dataframe thead th {\n",
       "        text-align: right;\n",
       "    }\n",
       "</style>\n",
       "<table border=\"1\" class=\"dataframe\">\n",
       "  <thead>\n",
       "    <tr style=\"text-align: right;\">\n",
       "      <th></th>\n",
       "      <th>id</th>\n",
       "      <th>country</th>\n",
       "      <th>gender</th>\n",
       "    </tr>\n",
       "  </thead>\n",
       "  <tbody>\n",
       "    <tr>\n",
       "      <th>0</th>\n",
       "      <td>1000000</td>\n",
       "      <td>CAN</td>\n",
       "      <td>M</td>\n",
       "    </tr>\n",
       "    <tr>\n",
       "      <th>1</th>\n",
       "      <td>1000001</td>\n",
       "      <td>BRA</td>\n",
       "      <td>M</td>\n",
       "    </tr>\n",
       "    <tr>\n",
       "      <th>2</th>\n",
       "      <td>1000002</td>\n",
       "      <td>FRA</td>\n",
       "      <td>M</td>\n",
       "    </tr>\n",
       "    <tr>\n",
       "      <th>3</th>\n",
       "      <td>1000003</td>\n",
       "      <td>BRA</td>\n",
       "      <td>M</td>\n",
       "    </tr>\n",
       "    <tr>\n",
       "      <th>4</th>\n",
       "      <td>1000004</td>\n",
       "      <td>DEU</td>\n",
       "      <td>F</td>\n",
       "    </tr>\n",
       "  </tbody>\n",
       "</table>\n",
       "</div>"
      ],
      "text/plain": [
       "        id country gender\n",
       "0  1000000     CAN      M\n",
       "1  1000001     BRA      M\n",
       "2  1000002     FRA      M\n",
       "3  1000003     BRA      M\n",
       "4  1000004     DEU      F"
      ]
     },
     "execution_count": 12,
     "metadata": {},
     "output_type": "execute_result"
    }
   ],
   "source": [
    "users.head()"
   ]
  },
  {
   "cell_type": "code",
   "execution_count": 13,
   "id": "4b14b29d",
   "metadata": {},
   "outputs": [
    {
     "name": "stdout",
     "output_type": "stream",
     "text": [
      "<class 'pandas.core.frame.DataFrame'>\n",
      "RangeIndex: 48943 entries, 0 to 48942\n",
      "Data columns (total 3 columns):\n",
      " #   Column   Non-Null Count  Dtype \n",
      "---  ------   --------------  ----- \n",
      " 0   id       48943 non-null  int64 \n",
      " 1   country  48300 non-null  object\n",
      " 2   gender   42088 non-null  object\n",
      "dtypes: int64(1), object(2)\n",
      "memory usage: 1.1+ MB\n"
     ]
    }
   ],
   "source": [
    "users.info()"
   ]
  },
  {
   "cell_type": "code",
   "execution_count": 14,
   "id": "00daf86e",
   "metadata": {},
   "outputs": [
    {
     "data": {
      "text/plain": [
       "(48943, 3)"
      ]
     },
     "execution_count": 14,
     "metadata": {},
     "output_type": "execute_result"
    }
   ],
   "source": [
    "users.shape"
   ]
  },
  {
   "cell_type": "code",
   "execution_count": 15,
   "id": "32452915",
   "metadata": {},
   "outputs": [],
   "source": [
    "# We would need to use the data on conversion from the activity table and the data on all users of A & B groups \n",
    "#from the groups table.\n",
    "# We need to join groups and activity tables as a LEFT JOIN because activity table contains only the data on \n",
    "#the customers that made some purchase."
   ]
  },
  {
   "cell_type": "code",
   "execution_count": 32,
   "id": "3c19d755",
   "metadata": {},
   "outputs": [],
   "source": [
    "groups_activity=pd.merge(groups,activity, on='uid',how='left',suffixes=['_a','_g'])"
   ]
  },
  {
   "cell_type": "code",
   "execution_count": 41,
   "id": "7dbf05d7",
   "metadata": {},
   "outputs": [
    {
     "data": {
      "text/html": [
       "<div>\n",
       "<style scoped>\n",
       "    .dataframe tbody tr th:only-of-type {\n",
       "        vertical-align: middle;\n",
       "    }\n",
       "\n",
       "    .dataframe tbody tr th {\n",
       "        vertical-align: top;\n",
       "    }\n",
       "\n",
       "    .dataframe thead th {\n",
       "        text-align: right;\n",
       "    }\n",
       "</style>\n",
       "<table border=\"1\" class=\"dataframe\">\n",
       "  <thead>\n",
       "    <tr style=\"text-align: right;\">\n",
       "      <th></th>\n",
       "      <th>uid</th>\n",
       "      <th>group</th>\n",
       "      <th>join_dt</th>\n",
       "      <th>device_a</th>\n",
       "      <th>dt</th>\n",
       "      <th>device_g</th>\n",
       "      <th>spent</th>\n",
       "    </tr>\n",
       "  </thead>\n",
       "  <tbody>\n",
       "    <tr>\n",
       "      <th>0</th>\n",
       "      <td>1000000</td>\n",
       "      <td>B</td>\n",
       "      <td>2023-01-28</td>\n",
       "      <td>I</td>\n",
       "      <td>NaN</td>\n",
       "      <td>NaN</td>\n",
       "      <td>0.0</td>\n",
       "    </tr>\n",
       "    <tr>\n",
       "      <th>1</th>\n",
       "      <td>1000001</td>\n",
       "      <td>A</td>\n",
       "      <td>2023-01-27</td>\n",
       "      <td>A</td>\n",
       "      <td>NaN</td>\n",
       "      <td>NaN</td>\n",
       "      <td>0.0</td>\n",
       "    </tr>\n",
       "    <tr>\n",
       "      <th>2</th>\n",
       "      <td>1000002</td>\n",
       "      <td>A</td>\n",
       "      <td>2023-02-01</td>\n",
       "      <td>A</td>\n",
       "      <td>NaN</td>\n",
       "      <td>NaN</td>\n",
       "      <td>0.0</td>\n",
       "    </tr>\n",
       "    <tr>\n",
       "      <th>3</th>\n",
       "      <td>1000003</td>\n",
       "      <td>B</td>\n",
       "      <td>2023-01-25</td>\n",
       "      <td>I</td>\n",
       "      <td>NaN</td>\n",
       "      <td>NaN</td>\n",
       "      <td>0.0</td>\n",
       "    </tr>\n",
       "    <tr>\n",
       "      <th>4</th>\n",
       "      <td>1000004</td>\n",
       "      <td>A</td>\n",
       "      <td>2023-02-04</td>\n",
       "      <td>A</td>\n",
       "      <td>NaN</td>\n",
       "      <td>NaN</td>\n",
       "      <td>0.0</td>\n",
       "    </tr>\n",
       "  </tbody>\n",
       "</table>\n",
       "</div>"
      ],
      "text/plain": [
       "       uid group     join_dt device_a   dt device_g  spent\n",
       "0  1000000     B  2023-01-28        I  NaN      NaN    0.0\n",
       "1  1000001     A  2023-01-27        A  NaN      NaN    0.0\n",
       "2  1000002     A  2023-02-01        A  NaN      NaN    0.0\n",
       "3  1000003     B  2023-01-25        I  NaN      NaN    0.0\n",
       "4  1000004     A  2023-02-04        A  NaN      NaN    0.0"
      ]
     },
     "execution_count": 41,
     "metadata": {},
     "output_type": "execute_result"
    }
   ],
   "source": [
    "groups_activity.head()"
   ]
  },
  {
   "cell_type": "code",
   "execution_count": 42,
   "id": "4971cf0a",
   "metadata": {},
   "outputs": [
    {
     "data": {
      "text/plain": [
       "(49082, 7)"
      ]
     },
     "execution_count": 42,
     "metadata": {},
     "output_type": "execute_result"
    }
   ],
   "source": [
    "groups_activity.shape"
   ]
  },
  {
   "cell_type": "code",
   "execution_count": null,
   "id": "573203d5",
   "metadata": {},
   "outputs": [],
   "source": []
  },
  {
   "cell_type": "code",
   "execution_count": 34,
   "id": "6f64f76d",
   "metadata": {},
   "outputs": [
    {
     "data": {
      "text/html": [
       "<div>\n",
       "<style scoped>\n",
       "    .dataframe tbody tr th:only-of-type {\n",
       "        vertical-align: middle;\n",
       "    }\n",
       "\n",
       "    .dataframe tbody tr th {\n",
       "        vertical-align: top;\n",
       "    }\n",
       "\n",
       "    .dataframe thead th {\n",
       "        text-align: right;\n",
       "    }\n",
       "</style>\n",
       "<table border=\"1\" class=\"dataframe\">\n",
       "  <thead>\n",
       "    <tr style=\"text-align: right;\">\n",
       "      <th></th>\n",
       "      <th>uid</th>\n",
       "      <th>group</th>\n",
       "      <th>join_dt</th>\n",
       "      <th>device_a</th>\n",
       "      <th>dt</th>\n",
       "      <th>device_g</th>\n",
       "      <th>spent</th>\n",
       "    </tr>\n",
       "  </thead>\n",
       "  <tbody>\n",
       "    <tr>\n",
       "      <th>38</th>\n",
       "      <td>1000039</td>\n",
       "      <td>B</td>\n",
       "      <td>2023-02-04</td>\n",
       "      <td>A</td>\n",
       "      <td>2023-02-04</td>\n",
       "      <td>A</td>\n",
       "      <td>36.650000</td>\n",
       "    </tr>\n",
       "    <tr>\n",
       "      <th>44</th>\n",
       "      <td>1000045</td>\n",
       "      <td>B</td>\n",
       "      <td>2023-01-26</td>\n",
       "      <td>I</td>\n",
       "      <td>2023-01-30</td>\n",
       "      <td>I</td>\n",
       "      <td>51.580000</td>\n",
       "    </tr>\n",
       "    <tr>\n",
       "      <th>69</th>\n",
       "      <td>1000071</td>\n",
       "      <td>B</td>\n",
       "      <td>2023-01-31</td>\n",
       "      <td>I</td>\n",
       "      <td>2023-02-02</td>\n",
       "      <td>I</td>\n",
       "      <td>6.710000</td>\n",
       "    </tr>\n",
       "    <tr>\n",
       "      <th>98</th>\n",
       "      <td>1000101</td>\n",
       "      <td>B</td>\n",
       "      <td>2023-02-02</td>\n",
       "      <td>A</td>\n",
       "      <td>2023-02-02</td>\n",
       "      <td>A</td>\n",
       "      <td>18.130000</td>\n",
       "    </tr>\n",
       "    <tr>\n",
       "      <th>99</th>\n",
       "      <td>1000101</td>\n",
       "      <td>B</td>\n",
       "      <td>2023-02-02</td>\n",
       "      <td>A</td>\n",
       "      <td>2023-02-05</td>\n",
       "      <td>A</td>\n",
       "      <td>5.674497</td>\n",
       "    </tr>\n",
       "    <tr>\n",
       "      <th>...</th>\n",
       "      <td>...</td>\n",
       "      <td>...</td>\n",
       "      <td>...</td>\n",
       "      <td>...</td>\n",
       "      <td>...</td>\n",
       "      <td>...</td>\n",
       "      <td>...</td>\n",
       "    </tr>\n",
       "    <tr>\n",
       "      <th>48964</th>\n",
       "      <td>1049880</td>\n",
       "      <td>A</td>\n",
       "      <td>2023-01-26</td>\n",
       "      <td>I</td>\n",
       "      <td>2023-01-26</td>\n",
       "      <td>I</td>\n",
       "      <td>186.690000</td>\n",
       "    </tr>\n",
       "    <tr>\n",
       "      <th>48975</th>\n",
       "      <td>1049891</td>\n",
       "      <td>B</td>\n",
       "      <td>2023-01-26</td>\n",
       "      <td>A</td>\n",
       "      <td>2023-01-26</td>\n",
       "      <td>A</td>\n",
       "      <td>47.140000</td>\n",
       "    </tr>\n",
       "    <tr>\n",
       "      <th>48978</th>\n",
       "      <td>1049894</td>\n",
       "      <td>A</td>\n",
       "      <td>2023-01-25</td>\n",
       "      <td>I</td>\n",
       "      <td>2023-01-25</td>\n",
       "      <td>I</td>\n",
       "      <td>34.050000</td>\n",
       "    </tr>\n",
       "    <tr>\n",
       "      <th>49010</th>\n",
       "      <td>1049927</td>\n",
       "      <td>A</td>\n",
       "      <td>2023-01-25</td>\n",
       "      <td>A</td>\n",
       "      <td>2023-01-25</td>\n",
       "      <td>A</td>\n",
       "      <td>52.030000</td>\n",
       "    </tr>\n",
       "    <tr>\n",
       "      <th>49055</th>\n",
       "      <td>1049973</td>\n",
       "      <td>B</td>\n",
       "      <td>2023-01-27</td>\n",
       "      <td>A</td>\n",
       "      <td>2023-01-31</td>\n",
       "      <td>A</td>\n",
       "      <td>85.930000</td>\n",
       "    </tr>\n",
       "  </tbody>\n",
       "</table>\n",
       "<p>2233 rows × 7 columns</p>\n",
       "</div>"
      ],
      "text/plain": [
       "           uid group     join_dt device_a          dt device_g       spent\n",
       "38     1000039     B  2023-02-04        A  2023-02-04        A   36.650000\n",
       "44     1000045     B  2023-01-26        I  2023-01-30        I   51.580000\n",
       "69     1000071     B  2023-01-31        I  2023-02-02        I    6.710000\n",
       "98     1000101     B  2023-02-02        A  2023-02-02        A   18.130000\n",
       "99     1000101     B  2023-02-02        A  2023-02-05        A    5.674497\n",
       "...        ...   ...         ...      ...         ...      ...         ...\n",
       "48964  1049880     A  2023-01-26        I  2023-01-26        I  186.690000\n",
       "48975  1049891     B  2023-01-26        A  2023-01-26        A   47.140000\n",
       "48978  1049894     A  2023-01-25        I  2023-01-25        I   34.050000\n",
       "49010  1049927     A  2023-01-25        A  2023-01-25        A   52.030000\n",
       "49055  1049973     B  2023-01-27        A  2023-01-31        A   85.930000\n",
       "\n",
       "[2233 rows x 7 columns]"
      ]
     },
     "execution_count": 34,
     "metadata": {},
     "output_type": "execute_result"
    }
   ],
   "source": [
    "#Select Rows without NaN Values in 'spent'Column to check the dataset. Tidle ~ means inverse boolean\n",
    "\n",
    "groups_activity[~groups_activity['spent'].isna()]"
   ]
  },
  {
   "cell_type": "code",
   "execution_count": null,
   "id": "08cd4b15",
   "metadata": {},
   "outputs": [],
   "source": []
  },
  {
   "cell_type": "code",
   "execution_count": 35,
   "id": "fb4281a1",
   "metadata": {},
   "outputs": [],
   "source": [
    "# Use the DataFrame.fillna(0) method to replace NaN/None values with the 0 value in 'spent column'. \n",
    "#inplace = True , the data is modified in place, which means it will return nothing and the dataframe is now updated.\n",
    "\n",
    "groups_activity['spent'].fillna(0,inplace=True)"
   ]
  },
  {
   "cell_type": "code",
   "execution_count": 36,
   "id": "673d4744",
   "metadata": {},
   "outputs": [
    {
     "data": {
      "text/html": [
       "<div>\n",
       "<style scoped>\n",
       "    .dataframe tbody tr th:only-of-type {\n",
       "        vertical-align: middle;\n",
       "    }\n",
       "\n",
       "    .dataframe tbody tr th {\n",
       "        vertical-align: top;\n",
       "    }\n",
       "\n",
       "    .dataframe thead th {\n",
       "        text-align: right;\n",
       "    }\n",
       "</style>\n",
       "<table border=\"1\" class=\"dataframe\">\n",
       "  <thead>\n",
       "    <tr style=\"text-align: right;\">\n",
       "      <th></th>\n",
       "      <th>uid</th>\n",
       "      <th>group</th>\n",
       "      <th>join_dt</th>\n",
       "      <th>device_a</th>\n",
       "      <th>dt</th>\n",
       "      <th>device_g</th>\n",
       "      <th>spent</th>\n",
       "    </tr>\n",
       "  </thead>\n",
       "  <tbody>\n",
       "    <tr>\n",
       "      <th>0</th>\n",
       "      <td>1000000</td>\n",
       "      <td>B</td>\n",
       "      <td>2023-01-28</td>\n",
       "      <td>I</td>\n",
       "      <td>NaN</td>\n",
       "      <td>NaN</td>\n",
       "      <td>0.0</td>\n",
       "    </tr>\n",
       "    <tr>\n",
       "      <th>1</th>\n",
       "      <td>1000001</td>\n",
       "      <td>A</td>\n",
       "      <td>2023-01-27</td>\n",
       "      <td>A</td>\n",
       "      <td>NaN</td>\n",
       "      <td>NaN</td>\n",
       "      <td>0.0</td>\n",
       "    </tr>\n",
       "    <tr>\n",
       "      <th>2</th>\n",
       "      <td>1000002</td>\n",
       "      <td>A</td>\n",
       "      <td>2023-02-01</td>\n",
       "      <td>A</td>\n",
       "      <td>NaN</td>\n",
       "      <td>NaN</td>\n",
       "      <td>0.0</td>\n",
       "    </tr>\n",
       "    <tr>\n",
       "      <th>3</th>\n",
       "      <td>1000003</td>\n",
       "      <td>B</td>\n",
       "      <td>2023-01-25</td>\n",
       "      <td>I</td>\n",
       "      <td>NaN</td>\n",
       "      <td>NaN</td>\n",
       "      <td>0.0</td>\n",
       "    </tr>\n",
       "    <tr>\n",
       "      <th>4</th>\n",
       "      <td>1000004</td>\n",
       "      <td>A</td>\n",
       "      <td>2023-02-04</td>\n",
       "      <td>A</td>\n",
       "      <td>NaN</td>\n",
       "      <td>NaN</td>\n",
       "      <td>0.0</td>\n",
       "    </tr>\n",
       "  </tbody>\n",
       "</table>\n",
       "</div>"
      ],
      "text/plain": [
       "       uid group     join_dt device_a   dt device_g  spent\n",
       "0  1000000     B  2023-01-28        I  NaN      NaN    0.0\n",
       "1  1000001     A  2023-01-27        A  NaN      NaN    0.0\n",
       "2  1000002     A  2023-02-01        A  NaN      NaN    0.0\n",
       "3  1000003     B  2023-01-25        I  NaN      NaN    0.0\n",
       "4  1000004     A  2023-02-04        A  NaN      NaN    0.0"
      ]
     },
     "execution_count": 36,
     "metadata": {},
     "output_type": "execute_result"
    }
   ],
   "source": [
    "groups_activity.head()"
   ]
  },
  {
   "cell_type": "code",
   "execution_count": 39,
   "id": "8a04bc0d",
   "metadata": {},
   "outputs": [
    {
     "data": {
      "text/html": [
       "<div>\n",
       "<style scoped>\n",
       "    .dataframe tbody tr th:only-of-type {\n",
       "        vertical-align: middle;\n",
       "    }\n",
       "\n",
       "    .dataframe tbody tr th {\n",
       "        vertical-align: top;\n",
       "    }\n",
       "\n",
       "    .dataframe thead th {\n",
       "        text-align: right;\n",
       "    }\n",
       "</style>\n",
       "<table border=\"1\" class=\"dataframe\">\n",
       "  <thead>\n",
       "    <tr style=\"text-align: right;\">\n",
       "      <th></th>\n",
       "      <th>uid</th>\n",
       "      <th>group</th>\n",
       "      <th>join_dt</th>\n",
       "      <th>device_a</th>\n",
       "      <th>dt</th>\n",
       "      <th>device_g</th>\n",
       "      <th>spent</th>\n",
       "    </tr>\n",
       "  </thead>\n",
       "  <tbody>\n",
       "    <tr>\n",
       "      <th>38</th>\n",
       "      <td>1000039</td>\n",
       "      <td>B</td>\n",
       "      <td>2023-02-04</td>\n",
       "      <td>A</td>\n",
       "      <td>2023-02-04</td>\n",
       "      <td>A</td>\n",
       "      <td>36.650000</td>\n",
       "    </tr>\n",
       "    <tr>\n",
       "      <th>44</th>\n",
       "      <td>1000045</td>\n",
       "      <td>B</td>\n",
       "      <td>2023-01-26</td>\n",
       "      <td>I</td>\n",
       "      <td>2023-01-30</td>\n",
       "      <td>I</td>\n",
       "      <td>51.580000</td>\n",
       "    </tr>\n",
       "    <tr>\n",
       "      <th>69</th>\n",
       "      <td>1000071</td>\n",
       "      <td>B</td>\n",
       "      <td>2023-01-31</td>\n",
       "      <td>I</td>\n",
       "      <td>2023-02-02</td>\n",
       "      <td>I</td>\n",
       "      <td>6.710000</td>\n",
       "    </tr>\n",
       "    <tr>\n",
       "      <th>98</th>\n",
       "      <td>1000101</td>\n",
       "      <td>B</td>\n",
       "      <td>2023-02-02</td>\n",
       "      <td>A</td>\n",
       "      <td>2023-02-02</td>\n",
       "      <td>A</td>\n",
       "      <td>18.130000</td>\n",
       "    </tr>\n",
       "    <tr>\n",
       "      <th>99</th>\n",
       "      <td>1000101</td>\n",
       "      <td>B</td>\n",
       "      <td>2023-02-02</td>\n",
       "      <td>A</td>\n",
       "      <td>2023-02-05</td>\n",
       "      <td>A</td>\n",
       "      <td>5.674497</td>\n",
       "    </tr>\n",
       "    <tr>\n",
       "      <th>...</th>\n",
       "      <td>...</td>\n",
       "      <td>...</td>\n",
       "      <td>...</td>\n",
       "      <td>...</td>\n",
       "      <td>...</td>\n",
       "      <td>...</td>\n",
       "      <td>...</td>\n",
       "    </tr>\n",
       "    <tr>\n",
       "      <th>48964</th>\n",
       "      <td>1049880</td>\n",
       "      <td>A</td>\n",
       "      <td>2023-01-26</td>\n",
       "      <td>I</td>\n",
       "      <td>2023-01-26</td>\n",
       "      <td>I</td>\n",
       "      <td>186.690000</td>\n",
       "    </tr>\n",
       "    <tr>\n",
       "      <th>48975</th>\n",
       "      <td>1049891</td>\n",
       "      <td>B</td>\n",
       "      <td>2023-01-26</td>\n",
       "      <td>A</td>\n",
       "      <td>2023-01-26</td>\n",
       "      <td>A</td>\n",
       "      <td>47.140000</td>\n",
       "    </tr>\n",
       "    <tr>\n",
       "      <th>48978</th>\n",
       "      <td>1049894</td>\n",
       "      <td>A</td>\n",
       "      <td>2023-01-25</td>\n",
       "      <td>I</td>\n",
       "      <td>2023-01-25</td>\n",
       "      <td>I</td>\n",
       "      <td>34.050000</td>\n",
       "    </tr>\n",
       "    <tr>\n",
       "      <th>49010</th>\n",
       "      <td>1049927</td>\n",
       "      <td>A</td>\n",
       "      <td>2023-01-25</td>\n",
       "      <td>A</td>\n",
       "      <td>2023-01-25</td>\n",
       "      <td>A</td>\n",
       "      <td>52.030000</td>\n",
       "    </tr>\n",
       "    <tr>\n",
       "      <th>49055</th>\n",
       "      <td>1049973</td>\n",
       "      <td>B</td>\n",
       "      <td>2023-01-27</td>\n",
       "      <td>A</td>\n",
       "      <td>2023-01-31</td>\n",
       "      <td>A</td>\n",
       "      <td>85.930000</td>\n",
       "    </tr>\n",
       "  </tbody>\n",
       "</table>\n",
       "<p>2233 rows × 7 columns</p>\n",
       "</div>"
      ],
      "text/plain": [
       "           uid group     join_dt device_a          dt device_g       spent\n",
       "38     1000039     B  2023-02-04        A  2023-02-04        A   36.650000\n",
       "44     1000045     B  2023-01-26        I  2023-01-30        I   51.580000\n",
       "69     1000071     B  2023-01-31        I  2023-02-02        I    6.710000\n",
       "98     1000101     B  2023-02-02        A  2023-02-02        A   18.130000\n",
       "99     1000101     B  2023-02-02        A  2023-02-05        A    5.674497\n",
       "...        ...   ...         ...      ...         ...      ...         ...\n",
       "48964  1049880     A  2023-01-26        I  2023-01-26        I  186.690000\n",
       "48975  1049891     B  2023-01-26        A  2023-01-26        A   47.140000\n",
       "48978  1049894     A  2023-01-25        I  2023-01-25        I   34.050000\n",
       "49010  1049927     A  2023-01-25        A  2023-01-25        A   52.030000\n",
       "49055  1049973     B  2023-01-27        A  2023-01-31        A   85.930000\n",
       "\n",
       "[2233 rows x 7 columns]"
      ]
     },
     "execution_count": 39,
     "metadata": {},
     "output_type": "execute_result"
    }
   ],
   "source": [
    "#Select 'spent' column with >0 values to check the dataset\n",
    "\n",
    "groups_activity.loc[groups_activity['spent']>0]"
   ]
  },
  {
   "cell_type": "code",
   "execution_count": 40,
   "id": "f27d090e",
   "metadata": {},
   "outputs": [
    {
     "data": {
      "text/plain": [
       "(49082, 7)"
      ]
     },
     "execution_count": 40,
     "metadata": {},
     "output_type": "execute_result"
    }
   ],
   "source": [
    "groups_activity.shape"
   ]
  },
  {
   "cell_type": "code",
   "execution_count": 52,
   "id": "05a5c32d",
   "metadata": {},
   "outputs": [
    {
     "name": "stdout",
     "output_type": "stream",
     "text": [
      "There are 139 users that have been tested more than once in the dataset.\n"
     ]
    }
   ],
   "source": [
    "# Check if there are users that have been purchases multiple times. \n",
    "\n",
    "uid_counts = groups_activity['uid'].value_counts(ascending=False)\n",
    "multi_uid = uid_counts[uid_counts > 1].count()\n",
    "\n",
    "print(f'There are {multi_uid} users that have been tested more than once in the dataset.')"
   ]
  },
  {
   "cell_type": "code",
   "execution_count": 50,
   "id": "ad80bf61",
   "metadata": {},
   "outputs": [],
   "source": [
    "uid_counts = groups_activity['uid'].value_counts(ascending=False)"
   ]
  },
  {
   "cell_type": "code",
   "execution_count": 51,
   "id": "a4d2bfd0",
   "metadata": {},
   "outputs": [
    {
     "name": "stdout",
     "output_type": "stream",
     "text": [
      "1040722    2\n",
      "1044360    2\n",
      "1010867    2\n",
      "1027442    2\n",
      "1007218    2\n",
      "          ..\n",
      "1016679    1\n",
      "1016680    1\n",
      "1016681    1\n",
      "1016682    1\n",
      "1049999    1\n",
      "Name: uid, Length: 48943, dtype: int64\n"
     ]
    }
   ],
   "source": [
    "print(uid_counts)"
   ]
  },
  {
   "cell_type": "code",
   "execution_count": 53,
   "id": "ca36d47f",
   "metadata": {},
   "outputs": [
    {
     "name": "stdout",
     "output_type": "stream",
     "text": [
      "139\n"
     ]
    }
   ],
   "source": [
    "print(multi_uid)"
   ]
  },
  {
   "cell_type": "code",
   "execution_count": 62,
   "id": "8b5ce9e4",
   "metadata": {},
   "outputs": [],
   "source": [
    "#We will delete the users that have been counted more than once\n",
    "\n",
    "uid_to_delete = uid_counts[uid_counts > 1].index"
   ]
  },
  {
   "cell_type": "code",
   "execution_count": 63,
   "id": "89928221",
   "metadata": {},
   "outputs": [
    {
     "name": "stdout",
     "output_type": "stream",
     "text": [
      "Int64Index([1040722, 1044360, 1010867, 1027442, 1007218, 1023317, 1000101,\n",
      "            1038396, 1020140, 1047318,\n",
      "            ...\n",
      "            1001855, 1024144, 1016208, 1005242, 1047670, 1048763, 1046864,\n",
      "            1006156, 1021115, 1016124],\n",
      "           dtype='int64', length=139)\n"
     ]
    }
   ],
   "source": [
    "print(uid_to_delete)"
   ]
  },
  {
   "cell_type": "code",
   "execution_count": 64,
   "id": "0a30480f",
   "metadata": {},
   "outputs": [],
   "source": [
    "groups_activity=groups_activity[~groups_activity['uid'].isin(uid_to_delete)]"
   ]
  },
  {
   "cell_type": "code",
   "execution_count": 65,
   "id": "71a9a7ab",
   "metadata": {},
   "outputs": [
    {
     "name": "stdout",
     "output_type": "stream",
     "text": [
      "           uid group     join_dt device_a   dt device_g  spent\n",
      "0      1000000     B  2023-01-28        I  NaN      NaN    0.0\n",
      "1      1000001     A  2023-01-27        A  NaN      NaN    0.0\n",
      "2      1000002     A  2023-02-01        A  NaN      NaN    0.0\n",
      "3      1000003     B  2023-01-25        I  NaN      NaN    0.0\n",
      "4      1000004     A  2023-02-04        A  NaN      NaN    0.0\n",
      "...        ...   ...         ...      ...  ...      ...    ...\n",
      "49077  1049995     B  2023-02-03        A  NaN      NaN    0.0\n",
      "49078  1049996     A  2023-01-29        A  NaN      NaN    0.0\n",
      "49079  1049997     B  2023-02-03        A  NaN      NaN    0.0\n",
      "49080  1049998     B  2023-02-03        I  NaN      NaN    0.0\n",
      "49081  1049999     B  2023-01-29        I  NaN      NaN    0.0\n",
      "\n",
      "[48804 rows x 7 columns]\n"
     ]
    }
   ],
   "source": [
    "print(groups_activity)"
   ]
  },
  {
   "cell_type": "code",
   "execution_count": 86,
   "id": "d9ddd182",
   "metadata": {},
   "outputs": [
    {
     "name": "stdout",
     "output_type": "stream",
     "text": [
      "The cleaned dataset now has 48804 rows\n"
     ]
    }
   ],
   "source": [
    "print(f'The cleaned dataset now has {groups_activity.shape[0]} rows')"
   ]
  },
  {
   "cell_type": "code",
   "execution_count": null,
   "id": "d1a442ac",
   "metadata": {},
   "outputs": [],
   "source": []
  },
  {
   "cell_type": "code",
   "execution_count": 77,
   "id": "1e95658f",
   "metadata": {},
   "outputs": [],
   "source": [
    "# 1.AB testing if there is a difference in the average amount spent per user between the two groups\n",
    "# we calculate summary statistics:\n",
    "# 1) The average amount spent per user for the control and treatment groups\n",
    "# 2) The sample size for both groups\n",
    "# 3) Calculate standard deviation of sample mean for both groups\n",
    "# 5) t-statistics, p-value and conclusion\n",
    "\n",
    "### 4) the 95% confidence interval for the average amount spent per user in the control and treatment groups\n",
    "# 5) t-statistics, p-value and conclusion\n",
    "\n"
   ]
  },
  {
   "cell_type": "code",
   "execution_count": 88,
   "id": "0582602b",
   "metadata": {},
   "outputs": [],
   "source": [
    "# 1) The average amount spent per user for the control and treatment groups\n",
    "\n",
    "x_bar=groups_activity.groupby(['group'])['spent'].mean()\n"
   ]
  },
  {
   "cell_type": "code",
   "execution_count": 89,
   "id": "0540ac61",
   "metadata": {},
   "outputs": [
    {
     "name": "stdout",
     "output_type": "stream",
     "text": [
      "group\n",
      "A    3.078020\n",
      "B    3.059325\n",
      "Name: spent, dtype: float64\n"
     ]
    }
   ],
   "source": [
    "print(x_bar)"
   ]
  },
  {
   "cell_type": "code",
   "execution_count": 79,
   "id": "89a9ac0e",
   "metadata": {},
   "outputs": [],
   "source": [
    "# 2) The sample size for both groups\n",
    "\n",
    "n=groups_activity.groupby('group')['uid'].nunique()"
   ]
  },
  {
   "cell_type": "code",
   "execution_count": 80,
   "id": "f4ffd7e7",
   "metadata": {},
   "outputs": [
    {
     "name": "stdout",
     "output_type": "stream",
     "text": [
      "group\n",
      "A    24284\n",
      "B    24520\n",
      "Name: uid, dtype: int64\n"
     ]
    }
   ],
   "source": [
    "print(n)"
   ]
  },
  {
   "cell_type": "code",
   "execution_count": 84,
   "id": "6dac26a1",
   "metadata": {},
   "outputs": [],
   "source": [
    "# 3) Calculate standard deviation of sample mean for both groups\n",
    "#ddof=1 provides an unbiased estimator of the variance of the infinite population. ddof=0 provides \n",
    "#a maximum likelihood estimate of the variance for normally distributed variables.\n",
    "\n",
    "std_dev=groups_activity.groupby('group')['spent'].agg(np.std,ddof=0)\n"
   ]
  },
  {
   "cell_type": "code",
   "execution_count": 138,
   "id": "d9a41910",
   "metadata": {},
   "outputs": [
    {
     "name": "stdout",
     "output_type": "stream",
     "text": [
      "group\n",
      "A    24.638716\n",
      "B    24.055442\n",
      "Name: spent, dtype: float64\n"
     ]
    }
   ],
   "source": [
    "print(std_dev)"
   ]
  },
  {
   "cell_type": "code",
   "execution_count": null,
   "id": "0896b67b",
   "metadata": {},
   "outputs": [],
   "source": [
    "# calculate the t-statistic and p-value\n",
    "t_stat, p_value = stats.ttest_ind(groupB, groupA, equal_var=False)"
   ]
  },
  {
   "cell_type": "code",
   "execution_count": null,
   "id": "9713bfef",
   "metadata": {},
   "outputs": [],
   "source": []
  },
  {
   "cell_type": "code",
   "execution_count": 95,
   "id": "3098c645",
   "metadata": {},
   "outputs": [
    {
     "name": "stdout",
     "output_type": "stream",
     "text": [
      "group\n",
      "A    2.768126\n",
      "B    2.758226\n",
      "dtype: float64\n"
     ]
    }
   ],
   "source": [
    "print(CI_lower_bound)"
   ]
  },
  {
   "cell_type": "code",
   "execution_count": 97,
   "id": "18f3ce38",
   "metadata": {},
   "outputs": [
    {
     "name": "stdout",
     "output_type": "stream",
     "text": [
      "group\n",
      "A    3.387915\n",
      "B    3.360424\n",
      "dtype: float64\n"
     ]
    }
   ],
   "source": [
    "print(CI_upper_bound)"
   ]
  },
  {
   "cell_type": "code",
   "execution_count": 134,
   "id": "15bfce8c",
   "metadata": {},
   "outputs": [],
   "source": [
    "# Make a summary table\n",
    "\n",
    "AB1_sample_statistics=pd.concat([x_bar,std_dev,n],axis=1)"
   ]
  },
  {
   "cell_type": "code",
   "execution_count": null,
   "id": "c61c2f1b",
   "metadata": {},
   "outputs": [],
   "source": []
  },
  {
   "cell_type": "code",
   "execution_count": null,
   "id": "f6be16b5",
   "metadata": {},
   "outputs": [],
   "source": [
    "# 4) the 95% confidence interval for the average amount spent per user in the control and treatment groups\n",
    "\n",
    "CI_lower_bound=x_bar-1.96*std_dev/np.sqrt(n)\n",
    "CI_upper_bound=x_bar+1.96*std_dev/np.sqrt(n"
   ]
  },
  {
   "cell_type": "code",
   "execution_count": 135,
   "id": "605c6a6c",
   "metadata": {},
   "outputs": [
    {
     "name": "stdout",
     "output_type": "stream",
     "text": [
      "          spent      spent    uid\n",
      "group                            \n",
      "A      3.078020  24.638716  24284\n",
      "B      3.059325  24.055442  24520\n"
     ]
    }
   ],
   "source": [
    "print(AB1_sample_statistics)"
   ]
  },
  {
   "cell_type": "code",
   "execution_count": null,
   "id": "0bd1bd74",
   "metadata": {},
   "outputs": [],
   "source": []
  },
  {
   "cell_type": "code",
   "execution_count": 136,
   "id": "201b1df9",
   "metadata": {},
   "outputs": [],
   "source": [
    "# Rename column names in AB1_sample_statistics\n",
    "\n",
    "AB1_sample_statistics.rename(columns={'spent': 'x_bar', 'spent': 'std_dev','uid': 'total_uid'}, inplace=True)"
   ]
  },
  {
   "cell_type": "code",
   "execution_count": 137,
   "id": "80f25cd9",
   "metadata": {},
   "outputs": [
    {
     "name": "stdout",
     "output_type": "stream",
     "text": [
      "        std_dev    std_dev  total_uid\n",
      "group                                \n",
      "A      3.078020  24.638716      24284\n",
      "B      3.059325  24.055442      24520\n"
     ]
    }
   ],
   "source": [
    "print(AB1_sample_statistics)"
   ]
  },
  {
   "cell_type": "code",
   "execution_count": null,
   "id": "22dcefa5",
   "metadata": {},
   "outputs": [],
   "source": []
  },
  {
   "cell_type": "code",
   "execution_count": null,
   "id": "e0493837",
   "metadata": {},
   "outputs": [],
   "source": [
    "# 5) Confidence interval (CI) for mean, the average amount spent by user – for Control group A and B separately.\n",
    "#As such, we will use t-distribution, a one-sample t-interval for means."
   ]
  },
  {
   "cell_type": "code",
   "execution_count": 110,
   "id": "a7e3928e",
   "metadata": {},
   "outputs": [],
   "source": [
    "# To calculate CI we need to calculate the t-value for the alpha 0.05 level of significance and \n",
    "# degrees of freedom (df) for A and B "
   ]
  },
  {
   "cell_type": "code",
   "execution_count": 111,
   "id": "a28e0199",
   "metadata": {},
   "outputs": [],
   "source": [
    "df_A = n['A']-1 "
   ]
  },
  {
   "cell_type": "code",
   "execution_count": 113,
   "id": "6090bb74",
   "metadata": {},
   "outputs": [],
   "source": [
    "df_B = n['B']-1 "
   ]
  },
  {
   "cell_type": "code",
   "execution_count": 114,
   "id": "2b2686b2",
   "metadata": {},
   "outputs": [
    {
     "name": "stdout",
     "output_type": "stream",
     "text": [
      "24283\n"
     ]
    }
   ],
   "source": [
    "print(df_A)"
   ]
  },
  {
   "cell_type": "code",
   "execution_count": 115,
   "id": "fc08a013",
   "metadata": {},
   "outputs": [
    {
     "name": "stdout",
     "output_type": "stream",
     "text": [
      "24519\n"
     ]
    }
   ],
   "source": [
    "print(df_B)"
   ]
  },
  {
   "cell_type": "code",
   "execution_count": 116,
   "id": "0063b6b3",
   "metadata": {},
   "outputs": [],
   "source": [
    "#We can use the stats.t.ppf() function to calculate the t-value:\n",
    "alpha = 0.05 # desired level of significance\n",
    "\n",
    "tA = stats.t.ppf(alpha/2, df_A) # t-value for group A\n",
    "tB = stats.t.ppf(alpha/2, df_B) # t-value for group B"
   ]
  },
  {
   "cell_type": "code",
   "execution_count": 117,
   "id": "ec7e001f",
   "metadata": {},
   "outputs": [
    {
     "name": "stdout",
     "output_type": "stream",
     "text": [
      "-1.9600616820019887\n"
     ]
    }
   ],
   "source": [
    "print(tA)"
   ]
  },
  {
   "cell_type": "code",
   "execution_count": 118,
   "id": "a247a82e",
   "metadata": {},
   "outputs": [
    {
     "name": "stdout",
     "output_type": "stream",
     "text": [
      "-1.960060741599857\n"
     ]
    }
   ],
   "source": [
    "print(tB)"
   ]
  },
  {
   "cell_type": "code",
   "execution_count": null,
   "id": "7c98136d",
   "metadata": {},
   "outputs": [],
   "source": [
    "#Calculate the CI for each group. We can use the formula for the confidence interval"
   ]
  },
  {
   "cell_type": "code",
   "execution_count": null,
   "id": "5f9f9f23",
   "metadata": {},
   "outputs": [],
   "source": [
    "ciA = [xA - tA * sA / np.sqrt(nA), xA + tA * sA / np.sqrt(nA)] # CI for group A\n",
    "ciB = [xB - tB * sB / np.sqrt(nB), xB + tB * sB / np.sqrt(nB)] # CI for group B\n"
   ]
  },
  {
   "cell_type": "code",
   "execution_count": null,
   "id": "be36d340",
   "metadata": {},
   "outputs": [],
   "source": []
  },
  {
   "cell_type": "code",
   "execution_count": null,
   "id": "dafc4523",
   "metadata": {},
   "outputs": [],
   "source": []
  },
  {
   "cell_type": "code",
   "execution_count": null,
   "id": "5ed05a7b",
   "metadata": {},
   "outputs": [],
   "source": []
  },
  {
   "cell_type": "code",
   "execution_count": null,
   "id": "c1968055",
   "metadata": {},
   "outputs": [],
   "source": []
  },
  {
   "cell_type": "code",
   "execution_count": null,
   "id": "752453ab",
   "metadata": {},
   "outputs": [],
   "source": []
  },
  {
   "cell_type": "code",
   "execution_count": null,
   "id": "653aa3ae",
   "metadata": {},
   "outputs": [],
   "source": []
  },
  {
   "cell_type": "code",
   "execution_count": null,
   "id": "f2870247",
   "metadata": {},
   "outputs": [],
   "source": []
  },
  {
   "cell_type": "code",
   "execution_count": null,
   "id": "d207d77b",
   "metadata": {},
   "outputs": [],
   "source": []
  },
  {
   "cell_type": "code",
   "execution_count": null,
   "id": "d16c769b",
   "metadata": {},
   "outputs": [],
   "source": []
  },
  {
   "cell_type": "code",
   "execution_count": null,
   "id": "68ce63f0",
   "metadata": {},
   "outputs": [],
   "source": []
  },
  {
   "cell_type": "code",
   "execution_count": null,
   "id": "1b65a88c",
   "metadata": {},
   "outputs": [],
   "source": []
  },
  {
   "cell_type": "code",
   "execution_count": null,
   "id": "12feee31",
   "metadata": {},
   "outputs": [],
   "source": []
  },
  {
   "cell_type": "code",
   "execution_count": null,
   "id": "8d686b1d",
   "metadata": {},
   "outputs": [],
   "source": []
  },
  {
   "cell_type": "code",
   "execution_count": null,
   "id": "ac7c1425",
   "metadata": {},
   "outputs": [],
   "source": []
  },
  {
   "cell_type": "code",
   "execution_count": null,
   "id": "750c5183",
   "metadata": {},
   "outputs": [],
   "source": []
  },
  {
   "cell_type": "code",
   "execution_count": null,
   "id": "ca1c9328",
   "metadata": {},
   "outputs": [],
   "source": []
  },
  {
   "cell_type": "code",
   "execution_count": null,
   "id": "1849a5ad",
   "metadata": {},
   "outputs": [],
   "source": []
  },
  {
   "cell_type": "code",
   "execution_count": null,
   "id": "e8c323cd",
   "metadata": {},
   "outputs": [],
   "source": []
  },
  {
   "cell_type": "code",
   "execution_count": null,
   "id": "739df6e4",
   "metadata": {},
   "outputs": [],
   "source": []
  },
  {
   "cell_type": "code",
   "execution_count": null,
   "id": "5c839ea5",
   "metadata": {},
   "outputs": [],
   "source": []
  },
  {
   "cell_type": "code",
   "execution_count": null,
   "id": "e3d537b1",
   "metadata": {},
   "outputs": [],
   "source": []
  },
  {
   "cell_type": "code",
   "execution_count": null,
   "id": "93f7f3c7",
   "metadata": {},
   "outputs": [],
   "source": []
  },
  {
   "cell_type": "code",
   "execution_count": null,
   "id": "914f97e1",
   "metadata": {},
   "outputs": [],
   "source": []
  },
  {
   "cell_type": "code",
   "execution_count": null,
   "id": "8f83abc2",
   "metadata": {},
   "outputs": [],
   "source": []
  },
  {
   "cell_type": "code",
   "execution_count": null,
   "id": "f6b07703",
   "metadata": {},
   "outputs": [],
   "source": []
  },
  {
   "cell_type": "code",
   "execution_count": null,
   "id": "48f57e89",
   "metadata": {},
   "outputs": [],
   "source": []
  },
  {
   "cell_type": "code",
   "execution_count": null,
   "id": "fad329c4",
   "metadata": {},
   "outputs": [],
   "source": []
  },
  {
   "cell_type": "code",
   "execution_count": null,
   "id": "1981ec15",
   "metadata": {},
   "outputs": [],
   "source": []
  },
  {
   "cell_type": "code",
   "execution_count": null,
   "id": "e46d2fb6",
   "metadata": {},
   "outputs": [],
   "source": []
  },
  {
   "cell_type": "code",
   "execution_count": null,
   "id": "c17bd24b",
   "metadata": {},
   "outputs": [],
   "source": []
  },
  {
   "cell_type": "code",
   "execution_count": null,
   "id": "2283a9c3",
   "metadata": {},
   "outputs": [],
   "source": []
  },
  {
   "cell_type": "code",
   "execution_count": null,
   "id": "79cb0ff8",
   "metadata": {},
   "outputs": [],
   "source": []
  },
  {
   "cell_type": "code",
   "execution_count": null,
   "id": "908505e9",
   "metadata": {},
   "outputs": [],
   "source": []
  },
  {
   "cell_type": "code",
   "execution_count": null,
   "id": "b5b53d24",
   "metadata": {},
   "outputs": [],
   "source": []
  },
  {
   "cell_type": "code",
   "execution_count": 28,
   "id": "9b08c665",
   "metadata": {},
   "outputs": [],
   "source": []
  },
  {
   "cell_type": "code",
   "execution_count": null,
   "id": "89863189",
   "metadata": {},
   "outputs": [],
   "source": []
  },
  {
   "cell_type": "code",
   "execution_count": null,
   "id": "5d11d77f",
   "metadata": {},
   "outputs": [],
   "source": []
  },
  {
   "cell_type": "code",
   "execution_count": null,
   "id": "0207a7be",
   "metadata": {},
   "outputs": [],
   "source": []
  },
  {
   "cell_type": "code",
   "execution_count": null,
   "id": "2b55cfa7",
   "metadata": {},
   "outputs": [],
   "source": []
  },
  {
   "cell_type": "code",
   "execution_count": null,
   "id": "9c300ca2",
   "metadata": {},
   "outputs": [],
   "source": []
  },
  {
   "cell_type": "code",
   "execution_count": null,
   "id": "f4b12e33",
   "metadata": {},
   "outputs": [],
   "source": []
  },
  {
   "cell_type": "code",
   "execution_count": null,
   "id": "df1ea8f7",
   "metadata": {},
   "outputs": [],
   "source": [
    "\n",
    "\n"
   ]
  },
  {
   "cell_type": "code",
   "execution_count": null,
   "id": "4afc6a57",
   "metadata": {},
   "outputs": [],
   "source": []
  },
  {
   "cell_type": "code",
   "execution_count": null,
   "id": "ad6aacd6",
   "metadata": {},
   "outputs": [],
   "source": []
  },
  {
   "cell_type": "code",
   "execution_count": 20,
   "id": "1090dee3",
   "metadata": {},
   "outputs": [],
   "source": []
  },
  {
   "cell_type": "code",
   "execution_count": null,
   "id": "c03fdcab",
   "metadata": {},
   "outputs": [],
   "source": []
  }
 ],
 "metadata": {
  "kernelspec": {
   "display_name": "Python 3 (ipykernel)",
   "language": "python",
   "name": "python3"
  },
  "language_info": {
   "codemirror_mode": {
    "name": "ipython",
    "version": 3
   },
   "file_extension": ".py",
   "mimetype": "text/x-python",
   "name": "python",
   "nbconvert_exporter": "python",
   "pygments_lexer": "ipython3",
   "version": "3.9.12"
  }
 },
 "nbformat": 4,
 "nbformat_minor": 5
}
